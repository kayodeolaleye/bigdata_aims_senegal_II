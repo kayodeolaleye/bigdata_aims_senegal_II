{
 "cells": [
  {
   "cell_type": "markdown",
   "metadata": {},
   "source": [
    "<h1>Assignment 1</h1>\n",
    "\n",
    "<p>In this first assignment we are focusing on a classification problem.<br>\n",
    "Our goal will be to use both the <b>K-Nearest Neighbors</b> and the <b>Decision Tree</b> techniques and try to compare the predictive models obtained.</p>\n",
    "\n",
    "<h3>The Dataset</h3>\n",
    "<p>For this assignment we will be using the sonar_train.csv data set</p>\n",
    "<p>This data set contains signals obtained from a variety of different aspect angles, spanning 90 degrees for mines and 180 degrees for rocks. Each sample is a set of 60 numbers in the range 0.0 to 1.0, where each number represents the energy within a particular frequency band (integrated over a certain period of time). The output target contains the letter R if the object is a rock and M if it is a mine (metal cylinder).</p>"
   ]
  },
  {
   "cell_type": "code",
   "execution_count": 94,
   "metadata": {
    "collapsed": false
   },
   "outputs": [],
   "source": [
    "import numpy as np\n",
    "import matplotlib.pyplot as plt\n",
    "import pandas as pd\n",
    "%matplotlib inline"
   ]
  },
  {
   "cell_type": "code",
   "execution_count": 95,
   "metadata": {
    "collapsed": false
   },
   "outputs": [],
   "source": [
    "#Opening the sonar_train.csv file\n",
    "data = pd.read_csv('sonar.csv')\n",
    "\n",
    "###Display informations and the different column/features names\n"
   ]
  },
  {
   "cell_type": "markdown",
   "metadata": {},
   "source": [
    "<p>In this data set each band is a feature and the target is the type of the object</p>\n",
    "<h4> <u>QUESTION 1 :</u> How many samples and how many features do we have?</h4>\n",
    "<p><i>There are 208 samples and 61 columns</i></p>"
   ]
  },
  {
   "cell_type": "code",
   "execution_count": 96,
   "metadata": {
    "collapsed": false
   },
   "outputs": [],
   "source": [
    "###using the train_test_split command split the data set in two : 'train' and 'test' with a ratio ~75%-25%\n",
    "from sklearn.cross_validation import train_test_split\n",
    "train, test = train_test_split(data)\n"
   ]
  },
  {
   "cell_type": "code",
   "execution_count": 97,
   "metadata": {
    "collapsed": false
   },
   "outputs": [
    {
     "name": "stdout",
     "output_type": "stream",
     "text": [
      "There are:  97 R and  111 M in total\n"
     ]
    }
   ],
   "source": [
    "#The last column in our sets correspond to the target\n",
    "###Count how many of 'R' and 'M' you have in total\n",
    "\n",
    "RInTrain = train[train['Type']=='R']\n",
    "RInTest = test[test['Type']=='R']\n",
    "MInTrain = train[train['Type']=='M']\n",
    "MInTest = test[test['Type']=='M']\n",
    "print 'There are: ',np.shape(RInTrain)[0] + np.shape(RInTest)[0], 'R and ', np.shape(MInTrain)[0] + np.shape(MInTest)[0], 'M in total'\n"
   ]
  },
  {
   "cell_type": "code",
   "execution_count": 98,
   "metadata": {
    "collapsed": false
   },
   "outputs": [],
   "source": [
    "#In order to make targets more easily usable we will replace 'R' and 'M' by 0 and 1 respectively.\n",
    "###Do it for both sets using the command: .replace()\n",
    "\n",
    "new_train = train.replace(\"R\", 0).replace('M',1)\n",
    "new_test = test.replace(\"R\", 0).replace('M',1)\n"
   ]
  },
  {
   "cell_type": "code",
   "execution_count": 99,
   "metadata": {
    "collapsed": true
   },
   "outputs": [],
   "source": [
    "training_data=new_train.drop(['Type'],axis=1).values"
   ]
  },
  {
   "cell_type": "code",
   "execution_count": 100,
   "metadata": {
    "collapsed": false
   },
   "outputs": [],
   "source": [
    "labels = new_train['Type'].values"
   ]
  },
  {
   "cell_type": "markdown",
   "metadata": {},
   "source": [
    "<h3>K-Nearest Neighbors approach</h3>\n",
    "\n",
    "<p>In this section we will apply the <b>K-Nearest Neighbors</b> technique to the data set</p>"
   ]
  },
  {
   "cell_type": "code",
   "execution_count": 101,
   "metadata": {
    "collapsed": false
   },
   "outputs": [
    {
     "data": {
      "text/plain": [
       "KNeighborsClassifier(algorithm='brute', leaf_size=30, metric='minkowski',\n",
       "           metric_params=None, n_jobs=1, n_neighbors=7, p=2,\n",
       "           weights='uniform')"
      ]
     },
     "execution_count": 101,
     "metadata": {},
     "output_type": "execute_result"
    }
   ],
   "source": [
    "from sklearn.neighbors import KNeighborsClassifier\n",
    "###Fill the brackets to use the brute force approach and 7 neighbors\n",
    "knn = KNeighborsClassifier(n_neighbors=7, algorithm='brute')\n",
    "\n",
    "### Train the Nearest Neighbor Classifier \"knn\" on the training set\n",
    "knn.fit(training_data, labels)"
   ]
  },
  {
   "cell_type": "markdown",
   "metadata": {},
   "source": [
    "<h4> <u>QUESTION 2 :</u> Which kind of impact has the choice of the algorithm?</h4>\n",
    "<p><i>It has an impact on the computational time</i></p>"
   ]
  },
  {
   "cell_type": "code",
   "execution_count": 102,
   "metadata": {
    "collapsed": false
   },
   "outputs": [
    {
     "data": {
      "text/plain": [
       "{'algorithm': 'brute',\n",
       " 'leaf_size': 30,\n",
       " 'metric': 'minkowski',\n",
       " 'metric_params': None,\n",
       " 'n_jobs': 1,\n",
       " 'n_neighbors': 7,\n",
       " 'p': 2,\n",
       " 'weights': 'uniform'}"
      ]
     },
     "execution_count": 102,
     "metadata": {},
     "output_type": "execute_result"
    }
   ],
   "source": [
    "#At any time it is possible to recall the parameters using :\n",
    "knn.get_params()"
   ]
  },
  {
   "cell_type": "markdown",
   "metadata": {},
   "source": [
    "<p>We now want to test the accuracy of the nearest neighbor classifier</p>\n"
   ]
  },
  {
   "cell_type": "code",
   "execution_count": 103,
   "metadata": {
    "collapsed": false
   },
   "outputs": [
    {
     "data": {
      "text/plain": [
       "array([1, 1, 0, 1, 0, 1, 1, 1, 0, 1, 1, 1, 1, 1, 1, 0, 0, 1, 0, 0, 1, 1, 1,\n",
       "       0, 0, 0, 0, 0, 0, 1, 1, 1, 1, 1, 1, 0, 1, 1, 0, 0, 1, 0, 0, 1, 1, 0,\n",
       "       0, 0, 1, 1, 1, 1])"
      ]
     },
     "execution_count": 103,
     "metadata": {},
     "output_type": "execute_result"
    }
   ],
   "source": [
    "###Compute the target prediction for the elements of the test set and compare with their true value\n",
    "testing_data=new_test.drop(['Type'],axis=1).values\n",
    "predictions = knn.predict(testing_data)\n",
    "predictions"
   ]
  },
  {
   "cell_type": "code",
   "execution_count": 104,
   "metadata": {
    "collapsed": false
   },
   "outputs": [
    {
     "data": {
      "text/plain": [
       "array([1, 1, 1, 1, 1, 1, 1, 1, 0, 0, 1, 1, 1, 1, 0, 1, 0, 0, 0, 0, 1, 0, 1,\n",
       "       0, 0, 0, 0, 0, 0, 1, 1, 1, 1, 1, 1, 0, 1, 1, 0, 1, 1, 0, 0, 1, 1, 0,\n",
       "       0, 1, 1, 1, 1, 0])"
      ]
     },
     "execution_count": 104,
     "metadata": {},
     "output_type": "execute_result"
    }
   ],
   "source": [
    "new_test['Type'].values"
   ]
  },
  {
   "cell_type": "code",
   "execution_count": 107,
   "metadata": {
    "collapsed": false
   },
   "outputs": [
    {
     "data": {
      "text/plain": [
       "0.80769230769230771"
      ]
     },
     "execution_count": 107,
     "metadata": {},
     "output_type": "execute_result"
    }
   ],
   "source": [
    "#scikit actually includes an accuracy evaluation function :\n",
    "###Compute the accuracy using knn.score()\n",
    "\n",
    "knn.score(testing_data, new_test['Type'].values)"
   ]
  },
  {
   "cell_type": "markdown",
   "metadata": {},
   "source": [
    "<h4> <u>QUESTION 3 :</u> Is the accuracy acceptable?</h4>\n",
    "<p><i>I think 80% accuracy is not good enough</i></p>\n",
    "\n",
    "<p>In the following cell repeat the training and the test steps with different knn parameters and try to find a good combination.</p>"
   ]
  },
  {
   "cell_type": "code",
   "execution_count": 157,
   "metadata": {
    "collapsed": false
   },
   "outputs": [
    {
     "data": {
      "text/plain": [
       "array([1, 1, 0, 1, 1, 1, 1, 1, 0, 0, 1, 1, 1, 1, 1, 0, 0, 1, 0, 0, 1, 1, 0,\n",
       "       0, 0, 0, 0, 0, 0, 1, 1, 1, 1, 1, 1, 0, 1, 1, 0, 0, 1, 0, 0, 1, 1, 0,\n",
       "       0, 1, 1, 1, 1, 0])"
      ]
     },
     "execution_count": 157,
     "metadata": {},
     "output_type": "execute_result"
    }
   ],
   "source": [
    "knn1 = KNeighborsClassifier(n_neighbors=7, algorithm='brute', leaf_size=10, weights='distance', p=1)\n",
    "\n",
    "### Train the Nearest Neighbor Classifier \"knn1\" on the training set\n",
    "knn1.fit(training_data, labels)\n",
    "\n",
    "###Compute the target prediction for the elements of the test set and compare with their true value\n",
    "testing_data=new_test.drop(['Type'],axis=1).values\n",
    "predictions1 = knn1.predict(testing_data)\n",
    "predictions1"
   ]
  },
  {
   "cell_type": "code",
   "execution_count": 158,
   "metadata": {
    "collapsed": false
   },
   "outputs": [
    {
     "data": {
      "text/plain": [
       "array([1, 1, 0, 1, 1, 1, 1, 1, 0, 0, 1, 1, 1, 1, 1, 0, 0, 1, 0, 0, 1, 1, 0,\n",
       "       0, 0, 0, 0, 0, 0, 1, 1, 1, 1, 1, 1, 0, 1, 1, 0, 0, 1, 0, 0, 1, 1, 0,\n",
       "       0, 1, 1, 1, 1, 0])"
      ]
     },
     "execution_count": 158,
     "metadata": {},
     "output_type": "execute_result"
    }
   ],
   "source": [
    "###Compute the target prediction for the elements of the test set and compare with their true value\n",
    "testing_data=new_test.drop(['Type'],axis=1).values\n",
    "predictions1 = knn1.predict(testing_data)\n",
    "predictions1"
   ]
  },
  {
   "cell_type": "code",
   "execution_count": 159,
   "metadata": {
    "collapsed": false
   },
   "outputs": [
    {
     "data": {
      "text/plain": [
       "array([1, 1, 1, 1, 1, 1, 1, 1, 0, 0, 1, 1, 1, 1, 0, 1, 0, 0, 0, 0, 1, 0, 1,\n",
       "       0, 0, 0, 0, 0, 0, 1, 1, 1, 1, 1, 1, 0, 1, 1, 0, 1, 1, 0, 0, 1, 1, 0,\n",
       "       0, 1, 1, 1, 1, 0])"
      ]
     },
     "execution_count": 159,
     "metadata": {},
     "output_type": "execute_result"
    }
   ],
   "source": [
    "new_test['Type'].values"
   ]
  },
  {
   "cell_type": "code",
   "execution_count": 160,
   "metadata": {
    "collapsed": false
   },
   "outputs": [
    {
     "data": {
      "text/plain": [
       "0.86538461538461542"
      ]
     },
     "execution_count": 160,
     "metadata": {},
     "output_type": "execute_result"
    }
   ],
   "source": [
    "knn1.score(testing_data, new_test['Type'].values)"
   ]
  },
  {
   "cell_type": "markdown",
   "metadata": {},
   "source": [
    "<h4> <u>QUESTION 4 :</u> What is the best accuracy you get? What can you conclude?</h4>\n",
    "<p><i>86%. The parameters combination that gives 86% accuracy using Brute force algorithm is the same for other algorithms </i></p>"
   ]
  },
  {
   "cell_type": "markdown",
   "metadata": {},
   "source": [
    "<h3>Decision Tree</h3>\n",
    "\n",
    "<p>Using the same sets we now investigate the efficiency of a <b>decision tree classifier<b> </p>"
   ]
  },
  {
   "cell_type": "code",
   "execution_count": 161,
   "metadata": {
    "collapsed": false
   },
   "outputs": [
    {
     "data": {
      "text/plain": [
       "DecisionTreeClassifier(class_weight=None, criterion='gini', max_depth=None,\n",
       "            max_features=None, max_leaf_nodes=None, min_samples_leaf=1,\n",
       "            min_samples_split=2, min_weight_fraction_leaf=0.0,\n",
       "            presort=False, random_state=None, splitter='best')"
      ]
     },
     "execution_count": 161,
     "metadata": {},
     "output_type": "execute_result"
    }
   ],
   "source": [
    "from sklearn import tree\n",
    "###\n",
    "dtr = tree.DecisionTreeClassifier()\n",
    "\n",
    "###train the decision tree classifier \"dtr\"\n",
    "dtr.fit(training_data, labels)"
   ]
  },
  {
   "cell_type": "code",
   "execution_count": 60,
   "metadata": {
    "collapsed": false
   },
   "outputs": [
    {
     "data": {
      "text/plain": [
       "{'class_weight': None,\n",
       " 'criterion': 'gini',\n",
       " 'max_depth': None,\n",
       " 'max_features': None,\n",
       " 'max_leaf_nodes': None,\n",
       " 'min_samples_leaf': 1,\n",
       " 'min_samples_split': 2,\n",
       " 'min_weight_fraction_leaf': 0.0,\n",
       " 'presort': False,\n",
       " 'random_state': None,\n",
       " 'splitter': 'best'}"
      ]
     },
     "execution_count": 60,
     "metadata": {},
     "output_type": "execute_result"
    }
   ],
   "source": [
    "#Same as previously we can display some informations\n",
    "dtr.get_params()"
   ]
  },
  {
   "cell_type": "markdown",
   "metadata": {},
   "source": [
    "<h4> <u>QUESTION 5 :</u> From the list above, give the keywords influencing the test performed at a decison node?</h4>\n",
    "<p><i>criterion</i></p>\n",
    "\n",
    "<p>In the follwing, using the work done previously test the accuracy of the decision tree classifier.</p>"
   ]
  },
  {
   "cell_type": "code",
   "execution_count": 163,
   "metadata": {
    "collapsed": false
   },
   "outputs": [
    {
     "data": {
      "text/plain": [
       "array([1, 1, 1, 1, 1, 1, 1, 1, 0, 0, 1, 1, 1, 1, 0, 1, 0, 0, 0, 0, 1, 0, 1,\n",
       "       0, 0, 0, 0, 0, 0, 1, 1, 1, 1, 1, 1, 0, 1, 1, 0, 1, 1, 0, 0, 1, 1, 0,\n",
       "       0, 1, 1, 1, 1, 0])"
      ]
     },
     "execution_count": 163,
     "metadata": {},
     "output_type": "execute_result"
    }
   ],
   "source": [
    "predictionsdtr = dtr.predict(testing_data)\n",
    "predictionsdtr\n"
   ]
  },
  {
   "cell_type": "code",
   "execution_count": 164,
   "metadata": {
    "collapsed": false
   },
   "outputs": [
    {
     "data": {
      "text/plain": [
       "array([1, 1, 1, 1, 1, 1, 1, 1, 0, 0, 1, 1, 1, 1, 0, 1, 0, 0, 0, 0, 1, 0, 1,\n",
       "       0, 0, 0, 0, 0, 0, 1, 1, 1, 1, 1, 1, 0, 1, 1, 0, 1, 1, 0, 0, 1, 1, 0,\n",
       "       0, 1, 1, 1, 1, 0])"
      ]
     },
     "execution_count": 164,
     "metadata": {},
     "output_type": "execute_result"
    }
   ],
   "source": [
    "new_test['Type'].values"
   ]
  },
  {
   "cell_type": "markdown",
   "metadata": {},
   "source": [
    "<p>Hereafter, using different parameters for our decision tree, try to improve the accuracy</p>\n",
    "\n",
    "<h4> <u>QUESTION 6 :</u> Explain which parameter(s) you plan to change and why?</h4>\n",
    "<p><i>Type your answer here</i></p>\n"
   ]
  },
  {
   "cell_type": "code",
   "execution_count": 60,
   "metadata": {
    "collapsed": false
   },
   "outputs": [],
   "source": [
    "\n",
    "\n",
    "\n",
    "\n",
    "\n",
    "\n"
   ]
  },
  {
   "cell_type": "markdown",
   "metadata": {},
   "source": [
    "<p>The results are different but obviously when we identify mines we don't want to be wrong.</p>\n",
    "\n",
    "<h4> <u>QUESTION 7 :</u> Which one of the two methods is better? Is the accuracy acceptable? Why?</h4>\n",
    "<p><i>Type your answer here</i></p>\n",
    "\n",
    "<h4> <u>QUESTION 8 :</u> What can you conclude from the whole study</h4>\n",
    "<p><i>Type your answer here</i></p>\n",
    "\n",
    "\n",
    "<h4> <u>BONUS :</u> Copy/Paste the code to generate a pdf file containing the best tree and attach the file generated to your assignment when sending everything to me</h4>"
   ]
  },
  {
   "cell_type": "code",
   "execution_count": 168,
   "metadata": {
    "collapsed": false
   },
   "outputs": [],
   "source": [
    "# import StringIO, pydot \n",
    "# dot_data = StringIO.StringIO() \n",
    "# tree.export_graphviz(knn1, out_file=dot_data, feature_names=data.keys()) \n",
    "# graph = pydot.graph_from_dot_data(dot_data.getvalue()) \n",
    "# graph.write_png(\"decision_tree.pdf\") "
   ]
  },
  {
   "cell_type": "code",
   "execution_count": null,
   "metadata": {
    "collapsed": false
   },
   "outputs": [],
   "source": []
  }
 ],
 "metadata": {
  "kernelspec": {
   "display_name": "Python 2",
   "language": "python",
   "name": "python2"
  },
  "language_info": {
   "codemirror_mode": {
    "name": "ipython",
    "version": 2
   },
   "file_extension": ".py",
   "mimetype": "text/x-python",
   "name": "python",
   "nbconvert_exporter": "python",
   "pygments_lexer": "ipython2",
   "version": "2.7.6"
  }
 },
 "nbformat": 4,
 "nbformat_minor": 0
}
